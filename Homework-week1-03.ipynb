{
 "cells": [
  {
   "cell_type": "markdown",
   "metadata": {},
   "source": [
    "# 问题一"
   ]
  },
  {
   "cell_type": "markdown",
   "metadata": {},
   "source": [
    "问题描述：编写一个程序：get_response(saying, response_rules)。输入是一个字符串和我们定义的 rules，输出是一个回答。"
   ]
  },
  {
   "cell_type": "code",
   "execution_count": 10,
   "metadata": {},
   "outputs": [],
   "source": [
    "# 英文最终版\n",
    "from collections import defaultdict\n",
    "fail = [True, None]\n",
    "\n",
    "def is_variable(pat):\n",
    "    return(pat.startswith('?') and all(s.isalpha() for s in pat[1:]))\n",
    "\n",
    "def is_pattern_segment(pattern):\n",
    "    return pattern.startswith('?*') and all(a.isalpha() for a in pattern[2:])\n",
    "\n",
    "# 兼容原本的 pat_to_dict 函数\n",
    "def pat_to_dict_imp(patterns):\n",
    "    return {k: ' '.join(v) if isinstance(v, list) else v for k, v in patterns}\n",
    "\n",
    "def segment_match(pattern, saying):\n",
    "    seg_pat, rest = pattern[0], pattern[1:]\n",
    "    seg_pat = seg_pat.replace('?*', '?')\n",
    "\n",
    "    if not rest: return (seg_pat, saying), len(saying)    \n",
    "    \n",
    "    for i, token in enumerate(saying):\n",
    "        if rest[0] == token:  \n",
    "            return (seg_pat, saying[:i]), i\n",
    "    \n",
    "    return (seg_pat, saying), len(saying)\n",
    "\n",
    "\n",
    "def subsitite(rule, parsed_rules):\n",
    "    if not rule: return []\n",
    "    \n",
    "    # Python 字典(Dictionary) get() 函数返回指定键的值，如果值不在字典中返回默认值。语法：dict.get(key, default=None)\n",
    "    return [parsed_rules.get(rule[0], rule[0])] + subsitite(rule[1:], parsed_rules)\n",
    "\n",
    "def pat_match_with_seg(pattern, saying):\n",
    "    \n",
    "    if len(pattern) != 0 and not saying: return fail\n",
    "    if not pattern or not saying: return []\n",
    "    \n",
    "    pat = pattern[0]\n",
    "    \n",
    "    if is_variable(pat):\n",
    "        return [(pat, saying[0])] + pat_match_with_seg(pattern[1:], saying[1:])\n",
    "    elif is_pattern_segment(pat):\n",
    "        match, index = segment_match(pattern, saying)\n",
    "        return [match] + pat_match_with_seg(pattern[1:], saying[index:])\n",
    "    elif pat == saying[0]:\n",
    "        return pat_match_with_seg(pattern[1:], saying[1:])\n",
    "    else:\n",
    "        return fail\n",
    "    \n",
    "\n",
    "    \n",
    "def get_response(saying, response_rules):\n",
    "    \"\"\"\" please implement the code, to get the response as followings:   \n",
    "    >>> get_response('I need iPhone') \n",
    "    >>> Image you will get iPhone soon\n",
    "    >>> get_response(\"My mother told me something\")\n",
    "    >>> Talk about more about your monther.\n",
    "    \"\"\"\n",
    "    import random\n",
    "    \n",
    "    for pattern in response_rules:\n",
    "        got_pattern = pat_match_with_seg( pattern.split(), saying.split() )\n",
    "        \n",
    "        if got_pattern[-1] == None:\n",
    "            pass\n",
    "        else:\n",
    "            pattern_corr_baselen = len( response_rules[pattern] )\n",
    "            resp = subsitite( response_rules[pattern][ random.randint(0, pattern_corr_baselen - 1) ].split(), pat_to_dict_imp(got_pattern))\n",
    "            return( \" \".join(resp) )\n",
    "    return(\"Sorry, I can't understand.\")"
   ]
  },
  {
   "cell_type": "markdown",
   "metadata": {},
   "source": [
    "## 例子"
   ]
  },
  {
   "cell_type": "code",
   "execution_count": 15,
   "metadata": {},
   "outputs": [
    {
     "data": {
      "text/plain": [
       "'Perhaps I already knew you were sad'"
      ]
     },
     "execution_count": 15,
     "metadata": {},
     "output_type": "execute_result"
    }
   ],
   "source": [
    "rule_responses = {\n",
    "    '?*x hello ?*y': ['How do you do', 'Please state your problem'],\n",
    "    '?*x I want ?*y': ['What would it mean if you got ?y ？', 'Why do you want ?y ？', 'Suppose you got ?y soon'],\n",
    "    '?*x if ?*y': ['Do you really think its likely that ?y', 'Do you wish that ?y', 'What do you think about ?y', 'Really-- if ?y'],\n",
    "    '?*x no ?*y': ['Why not?', 'You are being a negative', 'Are you saying \\'No\\' just to be negative?'],\n",
    "    '?*x I was ?*y': ['Were you really', 'Perhaps I already knew you were ?y', 'Why do you tell me you were ?y now?'],\n",
    "    '?*x I feel ?*y': ['Do you often feel ?y ?', 'What other feelings do you have?']}\n",
    "\n",
    "get_response(\"Hi, I was sad\",rule_responses)"
   ]
  },
  {
   "cell_type": "markdown",
   "metadata": {},
   "source": [
    "# 问题二"
   ]
  },
  {
   "cell_type": "markdown",
   "metadata": {},
   "source": [
    "问题描述：改写以上程序，将程序变成能够支持中文输入的模式。 提示: 你可以需用用到 jieba 分词。"
   ]
  },
  {
   "cell_type": "code",
   "execution_count": null,
   "metadata": {},
   "outputs": [],
   "source": [
    "# 中文版\n",
    "from collections import defaultdict\n",
    "fail = [True, None]\n",
    "\n",
    "def is_variable(pat):\n",
    "    return(pat.startswith('?') and all(s.isalpha() for s in pat[1:]))\n",
    "\n",
    "def is_pattern_segment(pattern):\n",
    "    return pattern.startswith('?*') and all(a.isalpha() for a in pattern[2:])\n",
    "\n",
    "# 兼容原本的 pat_to_dict 函数\n",
    "def pat_to_dict_imp(patterns):\n",
    "    return {k: ' '.join(v) if isinstance(v, list) else v for k, v in patterns}\n",
    "\n",
    "def segment_match(pattern, saying):\n",
    "    seg_pat, rest = pattern[0], pattern[1:]\n",
    "    seg_pat = seg_pat.replace('?*', '?')\n",
    "\n",
    "    if not rest: return (seg_pat, saying), len(saying)    \n",
    "    \n",
    "    for i, token in enumerate(saying):\n",
    "        if rest[0] == token:  \n",
    "            return (seg_pat, saying[:i]), i\n",
    "    \n",
    "    return (seg_pat, saying), len(saying)\n",
    "\n",
    "\n",
    "def subsitite(rule, parsed_rules):\n",
    "    if not rule: return []\n",
    "    \n",
    "    # Python 字典(Dictionary) get() 函数返回指定键的值，如果值不在字典中返回默认值。语法：dict.get(key, default=None)\n",
    "    return [parsed_rules.get(rule[0], rule[0])] + subsitite(rule[1:], parsed_rules)\n",
    "\n",
    "# 自定义函数，中文环境下 pattern 匹配\n",
    "def join_pattern(test):\n",
    "    A = []\n",
    "    i = 0\n",
    "    while i < len(test):   \n",
    "        if test[i] == \"?\":\n",
    "            if test[i + 1] == \"x\" or test[i + 1] == \"y\" or test[i + 1] == \"z\":\n",
    "                A.append(\"\".join([test[i], test[ i + 1 ]]))\n",
    "                i += 2\n",
    "            elif test[i + 1] == \"*\":\n",
    "                A.append(\"\".join([test[i], test[ i + 1 ], test[ i + 2 ]]))\n",
    "                i += 3\n",
    "            else:\n",
    "                A.append(test[i])\n",
    "                i += 1\n",
    "        else:\n",
    "            A.append(test[i])\n",
    "            i += 1\n",
    "    return(A)\n",
    "\n",
    "\n",
    "def pat_match_with_seg(pattern, saying):\n",
    "    \n",
    "    if len(pattern) != 0 and not saying: return fail\n",
    "    if not pattern or not saying: return []\n",
    "    \n",
    "    pat = pattern[0]\n",
    "    \n",
    "    if is_variable(pat):\n",
    "        return [(pat, saying[0])] + pat_match_with_seg(pattern[1:], saying[1:])\n",
    "    elif is_pattern_segment(pat):\n",
    "        match, index = segment_match(pattern, saying)\n",
    "        return [match] + pat_match_with_seg(pattern[1:], saying[index:])\n",
    "    elif pat == saying[0]:\n",
    "        return pat_match_with_seg(pattern[1:], saying[1:])\n",
    "    else:\n",
    "        return fail\n",
    "    \n",
    "\n",
    "def get_response(saying, response_rules):\n",
    "    \"\"\"\" please implement the code, to get the response as followings:   \n",
    "    >>> get_response('I need iPhone') \n",
    "    >>> Image you will get iPhone soon\n",
    "    >>> get_response(\"My mother told me something\")\n",
    "    >>> Talk about more about your monther.\n",
    "    \"\"\"\n",
    "    import random\n",
    "    \n",
    "    for pattern in response_rules:\n",
    "        got_pattern = pat_match_with_seg( join_pattern(list(jieba.cut(pattern, cut_all=False))), list(jieba.cut(saying, cut_all=False)) )\n",
    "        \n",
    "        if got_pattern[-1] == None:\n",
    "            pass\n",
    "        else:\n",
    "            pattern_corr_baselen = len( response_rules[pattern] )\n",
    "            resp = subsitite( join_pattern( list( jieba.cut(response_rules[pattern][ random.randint(0, pattern_corr_baselen - 1) ]))) , pat_to_dict_imp(got_pattern))\n",
    "            return( \"\".join(resp) )\n",
    "    return(\"对不起，我听不懂。\")"
   ]
  },
  {
   "cell_type": "markdown",
   "metadata": {},
   "source": [
    "## 例子"
   ]
  },
  {
   "cell_type": "markdown",
   "metadata": {},
   "source": [
    "我在实验室电脑上已经成功运行了，但是不知道为什么无法安装 jieba 分词，我先提交这个版本，4月8日我会再提供一个确保成功的版本，不好意思！"
   ]
  },
  {
   "cell_type": "markdown",
   "metadata": {},
   "source": [
    "# 问题三"
   ]
  },
  {
   "cell_type": "markdown",
   "metadata": {},
   "source": [
    "多设计一些模式，让这个程序变得更好玩，多和大家交流，看看大家有什么好玩的模式。"
   ]
  },
  {
   "cell_type": "markdown",
   "metadata": {},
   "source": [
    "# 问题四"
   ]
  },
  {
   "cell_type": "markdown",
   "metadata": {},
   "source": [
    "1.这样的程序有什么优点？有什么缺点？你有什么可以改进的方法吗？\n",
    "\n",
    "程序的优点是可以针对套路性的问题进行针对性的回答，包括课堂讲授的海底捞的模式，改进后我觉得完全可以回应。而且，在词库中的问题可以回答十分准确。但是缺点也很明显，第一，缺少灵活性和应变性，人的回答主要就体现在这一点上，人是根据自己的情况进行回答，这个提供的模式十分有限。其次，对于不在模式之中的问题无能为力，只能回应没有听懂了。第三，没有对于词语意义的分析，正常人的说话不同的话可能具有相同的意义，程序不能胜任。第四，有限性，相对于人来说，人是存在意义上的无限者，体现在语言上也是无限者，程序本质上是有限的。\n",
    "\n",
    "2.什么是数据驱动？数据驱动在这个程序里如何体现？\n",
    "\n",
    "我之前没有听过这个词汇，从这个程序上说一下字面的理解：数据驱动就是让数据自己说话，不那么人为地做决定。我们也看到了，少量的数据产生单调的回答，如果有更多真人的回答，效果肯定更加地好。我们程序中的体验就是 response_rules 的丰富程度决定性的影响了对话体验。\n",
    "\n",
    "3.数据驱动与 AI 的关系是什么？\n",
    "\n",
    "如果我让我写的程序接受图灵测试，估计很快就露馅了。那么，我们假设地狠一点，我们的数据中包含了这个民族历史上所有的回答。那么它能受得住图灵测试吗？我看答案还是否定的，因为它缺乏一个内在的一致性，我们人来说，作为一个个体是具有一贯性的。所以，有一个两难的情况就是，数据太多，则会天上一句，地上一句；数据太少则会单调。可能在数据的采集上，采集一个人的一生所言更为合适了。当然，也有模型的原因，我在这里做的这个，每一天的选取在随机的，可能提供一些好的分布模型效果也会更好。如果提供好的时间序列，也会有更好的回答。在这个意义上，数据驱动确实给了我们一个 AI 方向的进路。不过，如果我们尝试这样问自己，我是数据驱动的吗？我觉得少有人觉得自己是数据驱动的，原因可能因为我们在对话中具有情感，夹杂着我们的经验，有一时一地的偶然性还有很多其他因素。所以，即便一个人曾经说的话都知道，对于他将要说的话的预测，至少现有的这个模型还是不行。"
   ]
  }
 ],
 "metadata": {
  "kernelspec": {
   "display_name": "Python 3",
   "language": "python",
   "name": "python3"
  },
  "language_info": {
   "codemirror_mode": {
    "name": "ipython",
    "version": 3
   },
   "file_extension": ".py",
   "mimetype": "text/x-python",
   "name": "python",
   "nbconvert_exporter": "python",
   "pygments_lexer": "ipython3",
   "version": "3.7.1"
  }
 },
 "nbformat": 4,
 "nbformat_minor": 2
}
