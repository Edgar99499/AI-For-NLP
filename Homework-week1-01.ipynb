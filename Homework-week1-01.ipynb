{
 "cells": [
  {
   "cell_type": "markdown",
   "metadata": {},
   "source": [
    "# BFS 搜索代码复现"
   ]
  },
  {
   "cell_type": "markdown",
   "metadata": {},
   "source": [
    "下面内容是 BFS 代码复现，经典的使用场景是简单的搜索问题以及行程路线设计，例如，已知北京（BEIJING），长春（CHANGCHUN），乌鲁木齐（URUMCHI），武汉（WUHAN），广州（GUNAGHZOU），深圳（SHENZHEN），曼谷（BANGKOK），上海（SHANGHAI），纽约（NEWYORK）之间有如下的航班信息：\n",
    "长春--北京，乌鲁木齐--北京，北京--武汉，北京--深圳，北京--纽约，纽约--上海，上海--武汉，武汉--广州，广州--曼谷，深圳--曼谷。\n",
    "\n",
    "目标：\n",
    "1. 设计可行的航班路线\n",
    "2. 设计换乘最少的的航班路线"
   ]
  },
  {
   "cell_type": "markdown",
   "metadata": {},
   "source": [
    "首先定义变量，注意此时不要直接利用字符串做字典，这是因为如果产生拼写上的问题会使得很难找到问题所在"
   ]
  },
  {
   "cell_type": "code",
   "execution_count": 2,
   "metadata": {},
   "outputs": [],
   "source": [
    "BEIJING, CHANGCHUN, URUMCHI, WUHAN, GUNAGHZOU, SHENZHEN, BANGKOK, SHANGHAI, NEWYORK = \"\"\"\n",
    "BEIJING CHANGCHUN URUMCHI WUHAN GUANGZHOU SHENZHEN BANGKOK SHANGHAI NEWYORK\n",
    "\"\"\".split()"
   ]
  },
  {
   "cell_type": "markdown",
   "metadata": {},
   "source": [
    "利用航班信息制作字典，键值是城市变量，值是可到达城市的列表。注意：在我们这个最简单的例子中模型是连通的无向图，也就是说任意两个城市都能互相抵达（直接或者间接）并且城市 A 有到 B 的航班则一定存在 B 到 A 的航班。"
   ]
  },
  {
   "cell_type": "code",
   "execution_count": 12,
   "metadata": {},
   "outputs": [],
   "source": [
    "connection = {\n",
    "    CHANGCHUN: [BEIJING],\n",
    "    URUMCHI: [BEIJING], \n",
    "    BEIJING: [URUMCHI, CHANGCHUN, WUHAN, SHENZHEN, NEWYORK],\n",
    "    NEWYORK: [BEIJING, SHANGHAI],\n",
    "    SHANGHAI: [NEWYORK, WUHAN],\n",
    "    WUHAN: [SHANGHAI, BEIJING, GUNAGHZOU],\n",
    "    GUNAGHZOU: [WUHAN, BANGKOK],\n",
    "    SHENZHEN: [BEIJING, BANGKOK],\n",
    "    BANGKOK: [SHENZHEN, GUNAGHZOU]\n",
    "}"
   ]
  },
  {
   "cell_type": "code",
   "execution_count": 8,
   "metadata": {},
   "outputs": [
    {
     "data": {
      "image/png": "[encoded data removed]",
      "text/plain": [
       "<Figure size 432x288 with 1 Axes>"
      ]
     },
     "metadata": {},
     "output_type": "display_data"
    }
   ],
   "source": [
    "import networkx as nx\n",
    "import matplotlib.pyplot as plt\n",
    "graph = connection\n",
    "g = nx.Graph(graph)\n",
    "nx.draw(g)"
   ]
  },
  {
   "cell_type": "markdown",
   "metadata": {},
   "source": []
  },
  {
   "cell_type": "code",
   "execution_count": 16,
   "metadata": {},
   "outputs": [],
   "source": [
    "def navigator(start, destination, connection_graph):\n",
    "    # pathes 是一个队列，每弹出一个元素（这个队列的元素是一个列表，记录了已走的路线），就把所有的最后能到达的目的地所能走到的地方再放到这个路线中\n",
    "    pathes = [[start]]\n",
    "    # set 是一个集合，用以确定我们不要走回头路\n",
    "    seen = set()\n",
    "    \n",
    "    while len(pathes) != 0:\n",
    "        \n",
    "        path = pathes.pop(0)\n",
    "        # frontier 是我们最后所到达的地点，由此确定下一步要走哪些地点\n",
    "        frontier = path[-1]\n",
    "        \n",
    "        if frontier not in seen: \n",
    "            # 现在 frontier 就加入 seen 的集合\n",
    "            seen.add(frontier)\n",
    "            # 所有从 frontier 出发可以到达的地方组成的列表\n",
    "            successors = connection_graph[frontier]\n",
    "            \n",
    "            for s in successors: \n",
    "                if s == destination: \n",
    "                    path.append(s)\n",
    "                    return path\n",
    "                else:\n",
    "                    pathes.append(path + [s])  \n",
    "                    pathes = sorted(pathes, key=len) "
   ]
  },
  {
   "cell_type": "code",
   "execution_count": 17,
   "metadata": {},
   "outputs": [
    {
     "data": {
      "text/plain": [
       "['WUHAN', 'BEIJING', 'SHENZHEN']"
      ]
     },
     "execution_count": 17,
     "metadata": {},
     "output_type": "execute_result"
    }
   ],
   "source": [
    "navigator(WUHAN, SHENZHEN, connection)"
   ]
  },
  {
   "cell_type": "markdown",
   "metadata": {},
   "source": [
    "例子："
   ]
  },
  {
   "cell_type": "code",
   "execution_count": 27,
   "metadata": {},
   "outputs": [
    {
     "name": "stdout",
     "output_type": "stream",
     "text": [
      "['CHANGCHUN', 'BEIJING', 'WUHAN', 'GUANGZHOU']\n",
      "['CHANGCHUN', 'BEIJING', 'SHENZHEN', 'BANGKOK', 'GUANGZHOU']\n"
     ]
    }
   ],
   "source": [
    "BEIJING, CHANGCHUN, URUMCHI, WUHAN, GUANGZHOU, SHENZHEN, BANGKOK, SHANGHAI, NEWYORK = \"\"\"\n",
    "BEIJING CHANGCHUN URUMCHI WUHAN GUANGZHOU SHENZHEN BANGKOK SHANGHAI NEWYORK\n",
    "\"\"\".split()\n",
    "\n",
    "connection = {\n",
    "    CHANGCHUN: [BEIJING],\n",
    "    URUMCHI: [BEIJING], \n",
    "    BEIJING: [URUMCHI, CHANGCHUN, WUHAN, SHENZHEN, NEWYORK],\n",
    "    NEWYORK: [BEIJING, SHANGHAI],\n",
    "    SHANGHAI: [NEWYORK, WUHAN],\n",
    "    WUHAN: [SHANGHAI, BEIJING, GUANGZHOU],\n",
    "    GUANGZHOU: [WUHAN, BANGKOK],\n",
    "    SHENZHEN: [BEIJING, BANGKOK],\n",
    "    BANGKOK: [SHENZHEN, GUANGZHOU]\n",
    "}\n",
    "connection_graph = connection\n",
    "start = CHANGCHUN\n",
    "destination = GUANGZHOU\n",
    "\n",
    "\n",
    "pathes = [[start]]\n",
    "# set 是一个集合，用以确定我们不要走回头路\n",
    "seen = set()\n",
    "\n",
    "while len(pathes) != 0:\n",
    "\n",
    "    path = pathes.pop(0)\n",
    "    # frontier 是我们最后所到达的地点，由此确定下一步要走哪些地点\n",
    "    frontier = path[-1]\n",
    "    \n",
    "    pathes = sorted(pathes, key=len)\n",
    "    if frontier not in seen: \n",
    "        # 现在 frontier 就加入 seen 的集合\n",
    "        seen.add(frontier)\n",
    "        # 所有从 frontier 出发可以到达的地方组成的列表\n",
    "        \n",
    "        successors = connection_graph[frontier]\n",
    "        for s in successors: \n",
    "            if s == destination: \n",
    "                path.append(s)\n",
    "                print(path)\n",
    "            else:\n",
    "                pathes.append(path + [s])  \n",
    "    "
   ]
  },
  {
   "cell_type": "markdown",
   "metadata": {},
   "source": [
    "# 句子生成代码复现"
   ]
  },
  {
   "cell_type": "markdown",
   "metadata": {},
   "source": [
    "我们的策略当然可以是针对每一个情况具体编程,但是如此的话,可移植性就变得很差。我么选择的方案是在这个给定的规则下，在 “=>”左边,我们认为是规则,在右边 \"|\" 代表的是随机选择，最终还原的是基本的词素。"
   ]
  },
  {
   "cell_type": "code",
   "execution_count": 1,
   "metadata": {},
   "outputs": [],
   "source": [
    "grammar = \"\"\"\n",
    "sentence => noun_phrase verb_phrase \n",
    "noun_phrase => Article Adj* noun\n",
    "Adj* => null | Adj Adj*\n",
    "verb_phrase => verb noun_phrase\n",
    "Article =>  一个 | 这个\n",
    "noun => 女人 | 篮球 | 桌子 | 小猫\n",
    "verb => 看着 | 坐在 | 听着 | 看见\n",
    "Adj => 蓝色的 | 好看的 | 小小的\n",
    "\"\"\""
   ]
  },
  {
   "cell_type": "code",
   "execution_count": 3,
   "metadata": {},
   "outputs": [],
   "source": [
    "# 将上述规则,转化为词典。\n",
    "def parse_grammar(grammar_str, sep='=>'):\n",
    "    grammar = {}\n",
    "    \n",
    "    for line in grammar_str.split('\\n'): \n",
    "        line = line.strip()\n",
    "        if not line: continue\n",
    "        \n",
    "        # 左侧可扩展,| 则随机选择\n",
    "        target, rules = line.split(sep)\n",
    "        \n",
    "        grammar[target.strip()] = [r.split() for r in rules.split('|')]\n",
    "    \n",
    "    return(grammar)"
   ]
  },
  {
   "cell_type": "markdown",
   "metadata": {},
   "source": [
    "## 例子"
   ]
  },
  {
   "cell_type": "code",
   "execution_count": 4,
   "metadata": {},
   "outputs": [],
   "source": [
    "g = parse_grammar(grammar)"
   ]
  },
  {
   "cell_type": "code",
   "execution_count": 5,
   "metadata": {},
   "outputs": [
    {
     "data": {
      "text/plain": [
       "{'sentence': [['noun_phrase', 'verb_phrase']],\n",
       " 'noun_phrase': [['Article', 'Adj*', 'noun']],\n",
       " 'Adj*': [['null'], ['Adj', 'Adj*']],\n",
       " 'verb_phrase': [['verb', 'noun_phrase']],\n",
       " 'Article': [['一个'], ['这个']],\n",
       " 'noun': [['女人'], ['篮球'], ['桌子'], ['小猫']],\n",
       " 'verb': [['看着'], ['坐在'], ['听着'], ['看见']],\n",
       " 'Adj': [['蓝色的'], ['好看的'], ['小小的']]}"
      ]
     },
     "execution_count": 5,
     "metadata": {},
     "output_type": "execute_result"
    }
   ],
   "source": [
    "g"
   ]
  },
  {
   "cell_type": "markdown",
   "metadata": {},
   "source": [
    "下面我们就可以实现句子的生成了。"
   ]
  },
  {
   "cell_type": "code",
   "execution_count": 13,
   "metadata": {},
   "outputs": [],
   "source": [
    "import random\n",
    "# 句子生成\n",
    "def gene(grammar_parsed, target='sentence'):\n",
    "    # 递归基:还原到了最基本的语素,也就是如果只是在右边,不在左边出现,则就是它本身.\n",
    "    if target not in grammar_parsed: return target\n",
    "    \n",
    "    # 如果不是基本语素,那么随便选择一个组成部分.\n",
    "    rule = random.choice(grammar_parsed[target])\n",
    "    return ''.join(gene(grammar_parsed, target=r) for r in rule if r!='null')"
   ]
  },
  {
   "cell_type": "markdown",
   "metadata": {},
   "source": [
    "## 例子"
   ]
  },
  {
   "cell_type": "code",
   "execution_count": 20,
   "metadata": {},
   "outputs": [
    {
     "data": {
      "text/plain": [
       "'一个篮球看着一个好看的小小的小小的篮球'"
      ]
     },
     "execution_count": 20,
     "metadata": {},
     "output_type": "execute_result"
    }
   ],
   "source": [
    "gene(parse_grammar(grammar), target='sentence')"
   ]
  },
  {
   "cell_type": "markdown",
   "metadata": {},
   "source": [
    "## 变种"
   ]
  },
  {
   "cell_type": "markdown",
   "metadata": {},
   "source": [
    "数字的加减运算"
   ]
  },
  {
   "cell_type": "code",
   "execution_count": 21,
   "metadata": {},
   "outputs": [],
   "source": [
    "decimal_grammar = \"\"\"\n",
    "expression = operator op operator\n",
    "operator = num op num\n",
    "num = 0 | 1 | 2 | 3 | 4 | 5 | 6 | 7 | 8 | 9 | num num\n",
    "op = + | - | * | /\n",
    "\"\"\""
   ]
  },
  {
   "cell_type": "code",
   "execution_count": 22,
   "metadata": {},
   "outputs": [
    {
     "name": "stdout",
     "output_type": "stream",
     "text": [
      "6*891*4/1\n",
      "9-6*4*9\n",
      "9*8*5-4\n",
      "35*0+4+8\n",
      "3/4*1-16\n",
      "3/8-7-6\n",
      "08*1-2/0\n",
      "6+7+0*8\n",
      "6/5+0/1\n",
      "1-1*4+8\n",
      "9+1-5/3\n",
      "2-1/4*6\n",
      "6+31/6/8\n",
      "6/7*9-7\n",
      "2*6+81+9\n",
      "5*94-6+3\n",
      "5+2*7+8\n",
      "3*3-2-7\n",
      "6/8+8*6\n",
      "38*8+6/8\n"
     ]
    }
   ],
   "source": [
    "for i in range(20):\n",
    "    print(gene(parse_grammar(decimal_grammar, sep='='), target='expression'))"
   ]
  },
  {
   "cell_type": "code",
   "execution_count": null,
   "metadata": {},
   "outputs": [],
   "source": []
  }
 ],
 "metadata": {
  "kernelspec": {
   "display_name": "Python 3",
   "language": "python",
   "name": "python3"
  },
  "language_info": {
   "codemirror_mode": {
    "name": "ipython",
    "version": 3
   },
   "file_extension": ".py",
   "mimetype": "text/x-python",
   "name": "python",
   "nbconvert_exporter": "python",
   "pygments_lexer": "ipython3",
   "version": "3.7.1"
  }
 },
 "nbformat": 4,
 "nbformat_minor": 2
}
